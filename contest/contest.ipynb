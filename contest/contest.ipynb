{
 "cells": [
  {
   "cell_type": "markdown",
   "metadata": {},
   "source": [
    "# Pump it Up: Data Mining Water Table"
   ]
  },
  {
   "cell_type": "markdown",
   "metadata": {},
   "source": [
    "## Постановка задачи\n",
    "\n",
    "В настоящее время тема машинного обучения находится на пике своей популярности. Платформа Drivendata не только организовывает контесты по машинному обучению, но и сотрудничает с социальными и политическими организациями по всему миру, применяя результаты победителей контестов к реальным проблемам. Одна из таких проблем - плохое водоснабжение в стране Танзания в Восточной Африке. В Танзании вода добывается с помощью водокачек, и часто бывает, что водокачки требует ремонта или неожиданно ломаются, оставляя без воды целые деревни. \n",
    "\n",
    "Задача участников конкурса - по параметрам и статусе работоспособности некоторых водокачек предсказать возможность поломки или необходимости ремонта других водокачек.\n",
    "\n",
    "Ссылка на контест:\n",
    "https://www.drivendata.org/competitions/7/pump-it-up-data-mining-the-water-table/"
   ]
  },
  {
   "cell_type": "markdown",
   "metadata": {},
   "source": [
    "## Описание метода\n",
    "\n",
    "Будем использовать GradientBoosting из пакета sklearn. Отметим, что в будущем планируется сравнить эту реализацию метода Gradient Boosting с его реализацией из пакета XGBoost. \n",
    "\n",
    "### Постановка задачи\n",
    "\n",
    "Пусть есть обучающая выборка ${(x_1, y_1), ..., (x_n, y_n)}$, где $x_i$ - набор параметров, $y_i$ - метка для этого набора. Пусть есть функция потерь $L(x, F(x))$. Требуется построить модель - такую функцию $F(x)$, которая бы минимизировала бы функцию потерь.\n",
    "\n",
    "### Краткое описание метода\n",
    "\n",
    "Метод градинтного бустинга строит итоговую модель F(x) как взвешенную сумму так называемых _слабых моделей_ $F_m(x),\\ m = 1, ..., M$. На каждом шаге к предыдущей слабой модели добавляется \"невязка\" $h_m(x)$ - частная производная $L(x, F_m(x))$ по $F_m(x)$ со знаком минус. Для работы алгоритма требуется, чтобы $L(x, F(x))$ была дифференцируема в достаточно большой области.\n",
    "\n",
    "### \"Наивный\" алгоритм\n",
    "\n",
    "1. Инициализация:\n",
    "$$F_0(x) = argmin_\\rho \\sum_{i = 0}^{n}L(y_i, \\rho)$$\n",
    "2. На каждом шаге m, m = 1, ..., M построим слабую модель $F_m(x)$.\n",
    "Представим модель $F_{m}(x)$ как сумму предыдущей модели и слагаемого $h_m(x)$, которое улучшило бы модель:\n",
    "\n",
    "$$F_{m}(x) = F_{m - 1}(x) + h_m(x)$$\n",
    "\n",
    "Цель: построить $F_{m}(x)$ так, чтобы $F_{m}(x)$ минимизировала функцию потерь, то есть была бы аппроксимацией $argmin_F \\mathbb{E}_{x, y}L(y, F(x))$, где $\\mathbb{E}$ - математическое ожидание.\n",
    "\n",
    "Поэтому положим:\n",
    "$$h_m(x) = argmin_{h\\in H}\\sum_{i = 0}^{n}L(y_i, F_{m - 1}(x_i) + h_m(x_i))$$\n",
    "То есть:\n",
    "$$F_m(x) = F_{m - 1}(x) + h_m(x) = F_{m - 1}(x) + argmin_{h\\in H}\\sum_{i = 0}^{n}L(y_i, F_{m - 1}(x_i) + h_m(x_i))$$\n",
    "Здесь мы рассматриваем функции $h(x)$ из некоторого класса $H$.\n",
    "\n",
    "__Проблема:__ на практике считать $argmin_{h\\in H}$ - вычислительно очень сложная задача. Поэтому $h_m(x)$ вычисляют как частную производную функции потерь $L(x, F_m(x))$ по $F_m(x)$ с противоположным знаком. Такая $h_m(x)$ добавляется с весом $\\rho_m$:\n",
    "\n",
    "$$F_{m}(x) = F_{m - 1}(x) - \\rho_m h_m(x)$$\n",
    "\n",
    "$$h_m(x) = \\sum_{i = 0}^{n}\\frac{\\partial L(y_i, F(x_i)}{\\partial F(x_i)} |_{F(x) = F_{m - 1}(x)}$$\n",
    "\n",
    "$$\\rho_m = argmin_{\\rho} \\sum_{i = 0}^{n} L(y_i, F_{m-1}(x_i) - \\rho h_m(x)$$\n",
    "\n",
    "На практике такой подход дает очень хорошее приближение минимума в случае, когда класс функций $H$ конечен. \n",
    "\n",
    "3. Итоговая модель:\n",
    "$$F(x) = \\sum_{m = 0}^{M}\\rho_i h_i(x) + const$$\n",
    " \n",
    " \n",
    "### Алгоритм в общем случае\n",
    "\n",
    "В более общем случае в качестве $h_m(x)$ используются модели, обученные на аппроксимированной выборке ${(x_1, r_{1m}), ..., (x_n, r_{nm})}$, где $r_{im}$ - метки, построенные в соответствии с моделью $F_{m - 1}(x)$. В нашем случае в качестве $h_m(x)$ использованы решающие деревья, $M$ = 500, максимальная глубина каждого дерева - 5.\n",
    "\n",
    "1. Инициализация:\n",
    "$$F_0(x) = argmin_\\rho \\sum_{i = 0}^{n}L(y_i, \\rho)$$\n",
    "\n",
    "2. На каждом шаге m, m = 1, ... M:\n",
    "    а. Считаем _псевдо-остатки_ $r_{im}$:\n",
    "    $$r_{im} = - \\frac{\\partial L(y_i, F(x_i)}{\\partial F(x_i)} |_{F(x) = F_{m - 1}(x)},\\ i = 1, ..., n$$\n",
    "    б. Строим базовую модель $h_m(x)$ как модель на псевдо-остатках, то есть на выборке ${(x_1, r_{1m}), ..., (x_n, r_{nm})}$.\n",
    "    в. Находим вес $\\rho_m$ для найденной $h_m(x)$:\n",
    "    $$\\rho_m = argmin_{\\rho} \\sum_{i = 0}^{n} L(y_i, F_{m-1}(x_i) + \\rho h(x)$$\n",
    "    г. Положим:\n",
    "    $$F_{m}(x) = F_{m - 1}(x) + \\rho_m h_m(x)$$\n",
    "    \n",
    "3. Итоговая модель: $F_M(x)$."
   ]
  },
  {
   "cell_type": "markdown",
   "metadata": {},
   "source": [
    "## Загрузка данных"
   ]
  },
  {
   "cell_type": "code",
   "execution_count": 3,
   "metadata": {
    "collapsed": true
   },
   "outputs": [],
   "source": [
    "import matplotlib.pyplot as plt\n",
    "%matplotlib inline"
   ]
  },
  {
   "cell_type": "code",
   "execution_count": 4,
   "metadata": {
    "collapsed": true
   },
   "outputs": [],
   "source": [
    "import pandas as pd\n",
    "import numpy as np\n",
    "import math\n",
    "from sklearn.ensemble import GradientBoostingClassifier"
   ]
  },
  {
   "cell_type": "markdown",
   "metadata": {},
   "source": [
    "Для работы с данными используем объект DataFrame пакета pandas.\n",
    "\n",
    "Примем следующие обозначения:\n",
    "* X - вектор списков признаков (учебных или тестовых)\n",
    "* Y - вектор предсказаний (учебных или тестовых)"
   ]
  },
  {
   "cell_type": "code",
   "execution_count": 5,
   "metadata": {
    "collapsed": true
   },
   "outputs": [],
   "source": [
    "trainX = pd.read_csv('./dataT/train.csv', sep=',')\n",
    "trainY = pd.read_csv('./dataT/train_labels.csv', sep=',')\n",
    "testX = pd.read_csv('./dataT/test.csv', sep=',')"
   ]
  },
  {
   "cell_type": "code",
   "execution_count": 5,
   "metadata": {},
   "outputs": [
    {
     "name": "stdout",
     "output_type": "stream",
     "text": [
      "<class 'pandas.core.frame.DataFrame'>\n"
     ]
    }
   ],
   "source": [
    "print(type(trainX))"
   ]
  },
  {
   "cell_type": "markdown",
   "metadata": {},
   "source": [
    "Посмотрим, что представляют из себя данные. Выведем первые 5 строк таблицы входных данных:"
   ]
  },
  {
   "cell_type": "code",
   "execution_count": 6,
   "metadata": {},
   "outputs": [
    {
     "data": {
      "text/html": [
       "<div>\n",
       "<style scoped>\n",
       "    .dataframe tbody tr th:only-of-type {\n",
       "        vertical-align: middle;\n",
       "    }\n",
       "\n",
       "    .dataframe tbody tr th {\n",
       "        vertical-align: top;\n",
       "    }\n",
       "\n",
       "    .dataframe thead th {\n",
       "        text-align: right;\n",
       "    }\n",
       "</style>\n",
       "<table border=\"1\" class=\"dataframe\">\n",
       "  <thead>\n",
       "    <tr style=\"text-align: right;\">\n",
       "      <th></th>\n",
       "      <th>id</th>\n",
       "      <th>amount_tsh</th>\n",
       "      <th>date_recorded</th>\n",
       "      <th>funder</th>\n",
       "      <th>gps_height</th>\n",
       "      <th>installer</th>\n",
       "      <th>longitude</th>\n",
       "      <th>latitude</th>\n",
       "      <th>wpt_name</th>\n",
       "      <th>num_private</th>\n",
       "      <th>...</th>\n",
       "      <th>payment_type</th>\n",
       "      <th>water_quality</th>\n",
       "      <th>quality_group</th>\n",
       "      <th>quantity</th>\n",
       "      <th>quantity_group</th>\n",
       "      <th>source</th>\n",
       "      <th>source_type</th>\n",
       "      <th>source_class</th>\n",
       "      <th>waterpoint_type</th>\n",
       "      <th>waterpoint_type_group</th>\n",
       "    </tr>\n",
       "  </thead>\n",
       "  <tbody>\n",
       "    <tr>\n",
       "      <th>0</th>\n",
       "      <td>69572</td>\n",
       "      <td>6000.0</td>\n",
       "      <td>2011-03-14</td>\n",
       "      <td>Roman</td>\n",
       "      <td>1390</td>\n",
       "      <td>Roman</td>\n",
       "      <td>34.938093</td>\n",
       "      <td>-9.856322</td>\n",
       "      <td>none</td>\n",
       "      <td>0</td>\n",
       "      <td>...</td>\n",
       "      <td>annually</td>\n",
       "      <td>soft</td>\n",
       "      <td>good</td>\n",
       "      <td>enough</td>\n",
       "      <td>enough</td>\n",
       "      <td>spring</td>\n",
       "      <td>spring</td>\n",
       "      <td>groundwater</td>\n",
       "      <td>communal standpipe</td>\n",
       "      <td>communal standpipe</td>\n",
       "    </tr>\n",
       "    <tr>\n",
       "      <th>1</th>\n",
       "      <td>8776</td>\n",
       "      <td>0.0</td>\n",
       "      <td>2013-03-06</td>\n",
       "      <td>Grumeti</td>\n",
       "      <td>1399</td>\n",
       "      <td>GRUMETI</td>\n",
       "      <td>34.698766</td>\n",
       "      <td>-2.147466</td>\n",
       "      <td>Zahanati</td>\n",
       "      <td>0</td>\n",
       "      <td>...</td>\n",
       "      <td>never pay</td>\n",
       "      <td>soft</td>\n",
       "      <td>good</td>\n",
       "      <td>insufficient</td>\n",
       "      <td>insufficient</td>\n",
       "      <td>rainwater harvesting</td>\n",
       "      <td>rainwater harvesting</td>\n",
       "      <td>surface</td>\n",
       "      <td>communal standpipe</td>\n",
       "      <td>communal standpipe</td>\n",
       "    </tr>\n",
       "    <tr>\n",
       "      <th>2</th>\n",
       "      <td>34310</td>\n",
       "      <td>25.0</td>\n",
       "      <td>2013-02-25</td>\n",
       "      <td>Lottery Club</td>\n",
       "      <td>686</td>\n",
       "      <td>World vision</td>\n",
       "      <td>37.460664</td>\n",
       "      <td>-3.821329</td>\n",
       "      <td>Kwa Mahundi</td>\n",
       "      <td>0</td>\n",
       "      <td>...</td>\n",
       "      <td>per bucket</td>\n",
       "      <td>soft</td>\n",
       "      <td>good</td>\n",
       "      <td>enough</td>\n",
       "      <td>enough</td>\n",
       "      <td>dam</td>\n",
       "      <td>dam</td>\n",
       "      <td>surface</td>\n",
       "      <td>communal standpipe multiple</td>\n",
       "      <td>communal standpipe</td>\n",
       "    </tr>\n",
       "    <tr>\n",
       "      <th>3</th>\n",
       "      <td>67743</td>\n",
       "      <td>0.0</td>\n",
       "      <td>2013-01-28</td>\n",
       "      <td>Unicef</td>\n",
       "      <td>263</td>\n",
       "      <td>UNICEF</td>\n",
       "      <td>38.486161</td>\n",
       "      <td>-11.155298</td>\n",
       "      <td>Zahanati Ya Nanyumbu</td>\n",
       "      <td>0</td>\n",
       "      <td>...</td>\n",
       "      <td>never pay</td>\n",
       "      <td>soft</td>\n",
       "      <td>good</td>\n",
       "      <td>dry</td>\n",
       "      <td>dry</td>\n",
       "      <td>machine dbh</td>\n",
       "      <td>borehole</td>\n",
       "      <td>groundwater</td>\n",
       "      <td>communal standpipe multiple</td>\n",
       "      <td>communal standpipe</td>\n",
       "    </tr>\n",
       "    <tr>\n",
       "      <th>4</th>\n",
       "      <td>19728</td>\n",
       "      <td>0.0</td>\n",
       "      <td>2011-07-13</td>\n",
       "      <td>Action In A</td>\n",
       "      <td>0</td>\n",
       "      <td>Artisan</td>\n",
       "      <td>31.130847</td>\n",
       "      <td>-1.825359</td>\n",
       "      <td>Shuleni</td>\n",
       "      <td>0</td>\n",
       "      <td>...</td>\n",
       "      <td>never pay</td>\n",
       "      <td>soft</td>\n",
       "      <td>good</td>\n",
       "      <td>seasonal</td>\n",
       "      <td>seasonal</td>\n",
       "      <td>rainwater harvesting</td>\n",
       "      <td>rainwater harvesting</td>\n",
       "      <td>surface</td>\n",
       "      <td>communal standpipe</td>\n",
       "      <td>communal standpipe</td>\n",
       "    </tr>\n",
       "  </tbody>\n",
       "</table>\n",
       "<p>5 rows × 40 columns</p>\n",
       "</div>"
      ],
      "text/plain": [
       "      id  amount_tsh date_recorded        funder  gps_height     installer  \\\n",
       "0  69572      6000.0    2011-03-14         Roman        1390         Roman   \n",
       "1   8776         0.0    2013-03-06       Grumeti        1399       GRUMETI   \n",
       "2  34310        25.0    2013-02-25  Lottery Club         686  World vision   \n",
       "3  67743         0.0    2013-01-28        Unicef         263        UNICEF   \n",
       "4  19728         0.0    2011-07-13   Action In A           0       Artisan   \n",
       "\n",
       "   longitude   latitude              wpt_name  num_private  \\\n",
       "0  34.938093  -9.856322                  none            0   \n",
       "1  34.698766  -2.147466              Zahanati            0   \n",
       "2  37.460664  -3.821329           Kwa Mahundi            0   \n",
       "3  38.486161 -11.155298  Zahanati Ya Nanyumbu            0   \n",
       "4  31.130847  -1.825359               Shuleni            0   \n",
       "\n",
       "           ...          payment_type water_quality quality_group  \\\n",
       "0          ...              annually          soft          good   \n",
       "1          ...             never pay          soft          good   \n",
       "2          ...            per bucket          soft          good   \n",
       "3          ...             never pay          soft          good   \n",
       "4          ...             never pay          soft          good   \n",
       "\n",
       "       quantity  quantity_group                source           source_type  \\\n",
       "0        enough          enough                spring                spring   \n",
       "1  insufficient    insufficient  rainwater harvesting  rainwater harvesting   \n",
       "2        enough          enough                   dam                   dam   \n",
       "3           dry             dry           machine dbh              borehole   \n",
       "4      seasonal        seasonal  rainwater harvesting  rainwater harvesting   \n",
       "\n",
       "   source_class              waterpoint_type waterpoint_type_group  \n",
       "0   groundwater           communal standpipe    communal standpipe  \n",
       "1       surface           communal standpipe    communal standpipe  \n",
       "2       surface  communal standpipe multiple    communal standpipe  \n",
       "3   groundwater  communal standpipe multiple    communal standpipe  \n",
       "4       surface           communal standpipe    communal standpipe  \n",
       "\n",
       "[5 rows x 40 columns]"
      ]
     },
     "execution_count": 6,
     "metadata": {},
     "output_type": "execute_result"
    }
   ],
   "source": [
    "trainX.head()"
   ]
  },
  {
   "cell_type": "markdown",
   "metadata": {},
   "source": [
    "## Описание соревнования и данных"
   ]
  },
  {
   "cell_type": "markdown",
   "metadata": {},
   "source": [
    "https://www.drivendata.org/competitions/7/pump-it-up-data-mining-the-water-table/\n",
    "\n",
    "Суть задания - определить по набору признаков одно из трёх возможных состояний водокачки:\n",
    "* исправна\n",
    "* пока что исправна и требует ремонта\n",
    "* неисправна\n",
    "\n",
    "Данные относятся к водокачкам страны Танзании в Африке, где от состояния водокачек зависят судьбы местных жителей.\n",
    "\n",
    "Полный перечень столбцов таблицы с пояснениями:\n",
    "\n",
    "* amount_tsh - Total static head (amount water available to waterpoint)\n",
    "* date_recorded - The date the row was entered\n",
    "* funder - Who funded the well\n",
    "* gps_height - Altitude of the well\n",
    "* installer - Organization that installed the well\n",
    "* longitude - GPS coordinate\n",
    "* latitude - GPS coordinate\n",
    "* wpt_name - Name of the waterpoint if there is one\n",
    "* num_private -\n",
    "* basin - Geographic water basin\n",
    "* subvillage - Geographic location\n",
    "* region - Geographic location\n",
    "* region_code - Geographic location (coded)\n",
    "* district_code - Geographic location (coded)\n",
    "* lga - Geographic location\n",
    "* ward - Geographic location\n",
    "* population - Population around the well"
   ]
  },
  {
   "cell_type": "markdown",
   "metadata": {},
   "source": [
    "* public_meeting - True/False\n",
    "* recorded_by - Group entering this row of data\n",
    "* scheme_management - Who operates the waterpoint\n",
    "* scheme_name - Who operates the waterpoint\n",
    "* permit - If the waterpoint is permitted\n",
    "* construction_year - Year the waterpoint was constructed\n",
    "* extraction_type - The kind of extraction the waterpoint uses\n",
    "* extraction_type_group - The kind of extraction the waterpoint uses\n",
    "* extraction_type_class - The kind of extraction the waterpoint uses\n",
    "* management - How the waterpoint is managed\n",
    "* management_group - How the waterpoint is managed\n",
    "* payment - What the water costs\n",
    "* payment_type - What the water costs\n",
    "* water_quality - The quality of the water\n",
    "* quality_group - The quality of the water\n",
    "* quantity - The quantity of water\n",
    "* quantity_group - The quantity of water\n",
    "* source - The source of the water\n",
    "* source_type - The source of the water\n",
    "* source_class - The source of the water\n",
    "* waterpoint_type - The kind of waterpoint\n",
    "* waterpoint_type_group - The kind of waterpoint"
   ]
  },
  {
   "cell_type": "markdown",
   "metadata": {},
   "source": [
    "# Работа с данными"
   ]
  },
  {
   "cell_type": "markdown",
   "metadata": {},
   "source": [
    "## 1) Размер набора данных"
   ]
  },
  {
   "cell_type": "markdown",
   "metadata": {},
   "source": [
    "Около 19 МБайт. Таблицы имеют по 40 колонок, в выходной таблице должно быть только две колонки: id водокачки и её предсказанное состояние."
   ]
  },
  {
   "cell_type": "code",
   "execution_count": 7,
   "metadata": {},
   "outputs": [
    {
     "name": "stdout",
     "output_type": "stream",
     "text": [
      "(59400, 40) (59400, 2) (14850, 40)\n"
     ]
    }
   ],
   "source": [
    "print (trainX.shape, trainY.shape, testX.shape)"
   ]
  },
  {
   "cell_type": "markdown",
   "metadata": {},
   "source": [
    "## 2) Список названий колонок"
   ]
  },
  {
   "cell_type": "markdown",
   "metadata": {},
   "source": [
    "Аттрибут columns. Выпишем точные названия колонок, они понадобятся в дальнейшем для построения модели."
   ]
  },
  {
   "cell_type": "code",
   "execution_count": 8,
   "metadata": {},
   "outputs": [
    {
     "data": {
      "text/plain": [
       "Index(['id', 'amount_tsh', 'date_recorded', 'funder', 'gps_height',\n",
       "       'installer', 'longitude', 'latitude', 'wpt_name', 'num_private',\n",
       "       'basin', 'subvillage', 'region', 'region_code', 'district_code', 'lga',\n",
       "       'ward', 'population', 'public_meeting', 'recorded_by',\n",
       "       'scheme_management', 'scheme_name', 'permit', 'construction_year',\n",
       "       'extraction_type', 'extraction_type_group', 'extraction_type_class',\n",
       "       'management', 'management_group', 'payment', 'payment_type',\n",
       "       'water_quality', 'quality_group', 'quantity', 'quantity_group',\n",
       "       'source', 'source_type', 'source_class', 'waterpoint_type',\n",
       "       'waterpoint_type_group'],\n",
       "      dtype='object')"
      ]
     },
     "execution_count": 8,
     "metadata": {},
     "output_type": "execute_result"
    }
   ],
   "source": [
    "trainX.columns"
   ]
  },
  {
   "cell_type": "markdown",
   "metadata": {},
   "source": [
    "## 3) Смотрим информацию по типам столбцов"
   ]
  },
  {
   "cell_type": "markdown",
   "metadata": {},
   "source": [
    "Как видно, много строковых (30), немного целочисленных (7), мало вещественных (3) типов.\n",
    "Строковые можно отнести к категориальным, целочисленные и вещественные к количественным и порядковым."
   ]
  },
  {
   "cell_type": "code",
   "execution_count": 9,
   "metadata": {},
   "outputs": [
    {
     "name": "stdout",
     "output_type": "stream",
     "text": [
      "<class 'pandas.core.frame.DataFrame'>\n",
      "RangeIndex: 59400 entries, 0 to 59399\n",
      "Data columns (total 40 columns):\n",
      "id                       59400 non-null int64\n",
      "amount_tsh               59400 non-null float64\n",
      "date_recorded            59400 non-null object\n",
      "funder                   55765 non-null object\n",
      "gps_height               59400 non-null int64\n",
      "installer                55745 non-null object\n",
      "longitude                59400 non-null float64\n",
      "latitude                 59400 non-null float64\n",
      "wpt_name                 59400 non-null object\n",
      "num_private              59400 non-null int64\n",
      "basin                    59400 non-null object\n",
      "subvillage               59029 non-null object\n",
      "region                   59400 non-null object\n",
      "region_code              59400 non-null int64\n",
      "district_code            59400 non-null int64\n",
      "lga                      59400 non-null object\n",
      "ward                     59400 non-null object\n",
      "population               59400 non-null int64\n",
      "public_meeting           56066 non-null object\n",
      "recorded_by              59400 non-null object\n",
      "scheme_management        55523 non-null object\n",
      "scheme_name              31234 non-null object\n",
      "permit                   56344 non-null object\n",
      "construction_year        59400 non-null int64\n",
      "extraction_type          59400 non-null object\n",
      "extraction_type_group    59400 non-null object\n",
      "extraction_type_class    59400 non-null object\n",
      "management               59400 non-null object\n",
      "management_group         59400 non-null object\n",
      "payment                  59400 non-null object\n",
      "payment_type             59400 non-null object\n",
      "water_quality            59400 non-null object\n",
      "quality_group            59400 non-null object\n",
      "quantity                 59400 non-null object\n",
      "quantity_group           59400 non-null object\n",
      "source                   59400 non-null object\n",
      "source_type              59400 non-null object\n",
      "source_class             59400 non-null object\n",
      "waterpoint_type          59400 non-null object\n",
      "waterpoint_type_group    59400 non-null object\n",
      "dtypes: float64(3), int64(7), object(30)\n",
      "memory usage: 18.1+ MB\n"
     ]
    }
   ],
   "source": [
    "trainX.info(verbose = None)"
   ]
  },
  {
   "cell_type": "markdown",
   "metadata": {},
   "source": [
    "## 4) Характеристики каждого признака"
   ]
  },
  {
   "cell_type": "markdown",
   "metadata": {},
   "source": [
    "Посчитаем характеристики целочисленных и вещественных столбцов.\n",
    "\n",
    "Заметим: count - количество колонок - везде одинаковое число 59 400, так как в таблице заполнены все ячейки"
   ]
  },
  {
   "cell_type": "code",
   "execution_count": 10,
   "metadata": {},
   "outputs": [
    {
     "data": {
      "text/html": [
       "<div>\n",
       "<style scoped>\n",
       "    .dataframe tbody tr th:only-of-type {\n",
       "        vertical-align: middle;\n",
       "    }\n",
       "\n",
       "    .dataframe tbody tr th {\n",
       "        vertical-align: top;\n",
       "    }\n",
       "\n",
       "    .dataframe thead th {\n",
       "        text-align: right;\n",
       "    }\n",
       "</style>\n",
       "<table border=\"1\" class=\"dataframe\">\n",
       "  <thead>\n",
       "    <tr style=\"text-align: right;\">\n",
       "      <th></th>\n",
       "      <th>id</th>\n",
       "      <th>amount_tsh</th>\n",
       "      <th>gps_height</th>\n",
       "      <th>longitude</th>\n",
       "      <th>latitude</th>\n",
       "      <th>num_private</th>\n",
       "      <th>region_code</th>\n",
       "      <th>district_code</th>\n",
       "      <th>population</th>\n",
       "      <th>construction_year</th>\n",
       "    </tr>\n",
       "  </thead>\n",
       "  <tbody>\n",
       "    <tr>\n",
       "      <th>count</th>\n",
       "      <td>59400.000000</td>\n",
       "      <td>59400.000000</td>\n",
       "      <td>59400.000000</td>\n",
       "      <td>59400.000000</td>\n",
       "      <td>5.940000e+04</td>\n",
       "      <td>59400.000000</td>\n",
       "      <td>59400.000000</td>\n",
       "      <td>59400.000000</td>\n",
       "      <td>59400.000000</td>\n",
       "      <td>59400.000000</td>\n",
       "    </tr>\n",
       "    <tr>\n",
       "      <th>mean</th>\n",
       "      <td>37115.131768</td>\n",
       "      <td>317.650385</td>\n",
       "      <td>668.297239</td>\n",
       "      <td>34.077427</td>\n",
       "      <td>-5.706033e+00</td>\n",
       "      <td>0.474141</td>\n",
       "      <td>15.297003</td>\n",
       "      <td>5.629747</td>\n",
       "      <td>179.909983</td>\n",
       "      <td>1300.652475</td>\n",
       "    </tr>\n",
       "    <tr>\n",
       "      <th>std</th>\n",
       "      <td>21453.128371</td>\n",
       "      <td>2997.574558</td>\n",
       "      <td>693.116350</td>\n",
       "      <td>6.567432</td>\n",
       "      <td>2.946019e+00</td>\n",
       "      <td>12.236230</td>\n",
       "      <td>17.587406</td>\n",
       "      <td>9.633649</td>\n",
       "      <td>471.482176</td>\n",
       "      <td>951.620547</td>\n",
       "    </tr>\n",
       "    <tr>\n",
       "      <th>min</th>\n",
       "      <td>0.000000</td>\n",
       "      <td>0.000000</td>\n",
       "      <td>-90.000000</td>\n",
       "      <td>0.000000</td>\n",
       "      <td>-1.164944e+01</td>\n",
       "      <td>0.000000</td>\n",
       "      <td>1.000000</td>\n",
       "      <td>0.000000</td>\n",
       "      <td>0.000000</td>\n",
       "      <td>0.000000</td>\n",
       "    </tr>\n",
       "    <tr>\n",
       "      <th>25%</th>\n",
       "      <td>18519.750000</td>\n",
       "      <td>0.000000</td>\n",
       "      <td>0.000000</td>\n",
       "      <td>33.090347</td>\n",
       "      <td>-8.540621e+00</td>\n",
       "      <td>0.000000</td>\n",
       "      <td>5.000000</td>\n",
       "      <td>2.000000</td>\n",
       "      <td>0.000000</td>\n",
       "      <td>0.000000</td>\n",
       "    </tr>\n",
       "    <tr>\n",
       "      <th>50%</th>\n",
       "      <td>37061.500000</td>\n",
       "      <td>0.000000</td>\n",
       "      <td>369.000000</td>\n",
       "      <td>34.908743</td>\n",
       "      <td>-5.021597e+00</td>\n",
       "      <td>0.000000</td>\n",
       "      <td>12.000000</td>\n",
       "      <td>3.000000</td>\n",
       "      <td>25.000000</td>\n",
       "      <td>1986.000000</td>\n",
       "    </tr>\n",
       "    <tr>\n",
       "      <th>75%</th>\n",
       "      <td>55656.500000</td>\n",
       "      <td>20.000000</td>\n",
       "      <td>1319.250000</td>\n",
       "      <td>37.178387</td>\n",
       "      <td>-3.326156e+00</td>\n",
       "      <td>0.000000</td>\n",
       "      <td>17.000000</td>\n",
       "      <td>5.000000</td>\n",
       "      <td>215.000000</td>\n",
       "      <td>2004.000000</td>\n",
       "    </tr>\n",
       "    <tr>\n",
       "      <th>max</th>\n",
       "      <td>74247.000000</td>\n",
       "      <td>350000.000000</td>\n",
       "      <td>2770.000000</td>\n",
       "      <td>40.345193</td>\n",
       "      <td>-2.000000e-08</td>\n",
       "      <td>1776.000000</td>\n",
       "      <td>99.000000</td>\n",
       "      <td>80.000000</td>\n",
       "      <td>30500.000000</td>\n",
       "      <td>2013.000000</td>\n",
       "    </tr>\n",
       "  </tbody>\n",
       "</table>\n",
       "</div>"
      ],
      "text/plain": [
       "                 id     amount_tsh    gps_height     longitude      latitude  \\\n",
       "count  59400.000000   59400.000000  59400.000000  59400.000000  5.940000e+04   \n",
       "mean   37115.131768     317.650385    668.297239     34.077427 -5.706033e+00   \n",
       "std    21453.128371    2997.574558    693.116350      6.567432  2.946019e+00   \n",
       "min        0.000000       0.000000    -90.000000      0.000000 -1.164944e+01   \n",
       "25%    18519.750000       0.000000      0.000000     33.090347 -8.540621e+00   \n",
       "50%    37061.500000       0.000000    369.000000     34.908743 -5.021597e+00   \n",
       "75%    55656.500000      20.000000   1319.250000     37.178387 -3.326156e+00   \n",
       "max    74247.000000  350000.000000   2770.000000     40.345193 -2.000000e-08   \n",
       "\n",
       "        num_private   region_code  district_code    population  \\\n",
       "count  59400.000000  59400.000000   59400.000000  59400.000000   \n",
       "mean       0.474141     15.297003       5.629747    179.909983   \n",
       "std       12.236230     17.587406       9.633649    471.482176   \n",
       "min        0.000000      1.000000       0.000000      0.000000   \n",
       "25%        0.000000      5.000000       2.000000      0.000000   \n",
       "50%        0.000000     12.000000       3.000000     25.000000   \n",
       "75%        0.000000     17.000000       5.000000    215.000000   \n",
       "max     1776.000000     99.000000      80.000000  30500.000000   \n",
       "\n",
       "       construction_year  \n",
       "count       59400.000000  \n",
       "mean         1300.652475  \n",
       "std           951.620547  \n",
       "min             0.000000  \n",
       "25%             0.000000  \n",
       "50%          1986.000000  \n",
       "75%          2004.000000  \n",
       "max          2013.000000  "
      ]
     },
     "execution_count": 10,
     "metadata": {},
     "output_type": "execute_result"
    }
   ],
   "source": [
    "trainX.describe()"
   ]
  },
  {
   "cell_type": "markdown",
   "metadata": {},
   "source": [
    "## 5) Выводим списки регионов, фирм-установщиков и др."
   ]
  },
  {
   "cell_type": "markdown",
   "metadata": {},
   "source": [
    "С помощью метода value_counts() объединим столбец \"region\" в тестовой и тренировочной выборке и посчитаем количество строк каждого из регионов."
   ]
  },
  {
   "cell_type": "code",
   "execution_count": 11,
   "metadata": {
    "collapsed": true,
    "scrolled": true
   },
   "outputs": [],
   "source": [
    "val = trainX['region'].value_counts()\n",
    "val1 = testX['region'].value_counts()"
   ]
  },
  {
   "cell_type": "code",
   "execution_count": 12,
   "metadata": {},
   "outputs": [
    {
     "name": "stdout",
     "output_type": "stream",
     "text": [
      "Iringa           5294\n",
      "Shinyanga        4982\n",
      "Mbeya            4639\n",
      "Kilimanjaro      4379\n",
      "Morogoro         4006\n",
      "Arusha           3350\n",
      "Kagera           3316\n",
      "Mwanza           3102\n",
      "Kigoma           2816\n",
      "Ruvuma           2640\n",
      "Pwani            2635\n",
      "Tanga            2547\n",
      "Dodoma           2201\n",
      "Singida          2093\n",
      "Mara             1969\n",
      "Tabora           1959\n",
      "Rukwa            1808\n",
      "Mtwara           1730\n",
      "Manyara          1583\n",
      "Lindi            1546\n",
      "Dar es Salaam     805\n",
      "Shinyanga        1311\n",
      "Iringa           1305\n",
      "Mbeya            1119\n",
      "Kilimanjaro      1115\n",
      "Morogoro         1032\n",
      "Kagera            858\n",
      "Mwanza            795\n",
      "Arusha            761\n",
      "Kigoma            717\n",
      "Pwani             696\n",
      "Ruvuma            666\n",
      "Tanga             639\n",
      "Dodoma            578\n",
      "Tabora            507\n",
      "Mara              482\n",
      "Singida           443\n",
      "Rukwa             434\n",
      "Mtwara            414\n",
      "Manyara           389\n",
      "Lindi             374\n",
      "Dar es Salaam     215\n",
      "Name: region, dtype: int64\n"
     ]
    }
   ],
   "source": [
    "val = val.append(val1)\n",
    "print(val)"
   ]
  },
  {
   "cell_type": "markdown",
   "metadata": {},
   "source": [
    "Регионов малое обозримое количество и водокачки неплохо (в плане равномерности) распределены по ним. Есть даже Килиманжаро. Значит, это предположительно хороший признак, его стоит включить в модель.\n",
    "\n",
    "Данный признак - категориальный. Заменим его со строкового типа на целочисленный прямым преобразованием: первому названию присвоим значение 0, второму - 1 и т.д."
   ]
  },
  {
   "cell_type": "code",
   "execution_count": 13,
   "metadata": {
    "collapsed": true
   },
   "outputs": [],
   "source": [
    "#vval = val.keys()\n",
    "#print(vval[3])\n",
    "\n",
    "#print(val['Kilimanjaro'])\n",
    "#print(val['Mbeya'])\n",
    "for ii in range(0, len(val)):\n",
    "    val[ii]=ii"
   ]
  },
  {
   "cell_type": "code",
   "execution_count": 14,
   "metadata": {},
   "outputs": [
    {
     "name": "stdout",
     "output_type": "stream",
     "text": [
      "<class 'pandas.core.series.Series'>\n",
      "Iringa\n",
      "Shinyanga\n",
      "Mbeya\n",
      "Kilimanjaro\n",
      "Morogoro\n",
      "Arusha\n",
      "Kagera\n",
      "Mwanza\n",
      "Kigoma\n",
      "Ruvuma\n",
      "Pwani\n",
      "Tanga\n",
      "Dodoma\n",
      "Singida\n",
      "Mara\n",
      "Tabora\n",
      "Rukwa\n",
      "Mtwara\n",
      "Manyara\n",
      "Lindi\n",
      "Dar es Salaam\n",
      "Shinyanga\n",
      "Iringa\n",
      "Mbeya\n",
      "Kilimanjaro\n",
      "Morogoro\n",
      "Kagera\n",
      "Mwanza\n",
      "Arusha\n",
      "Kigoma\n",
      "Pwani\n",
      "Ruvuma\n",
      "Tanga\n",
      "Dodoma\n",
      "Tabora\n",
      "Mara\n",
      "Singida\n",
      "Rukwa\n",
      "Mtwara\n",
      "Manyara\n",
      "Lindi\n",
      "Dar es Salaam\n"
     ]
    }
   ],
   "source": [
    "#def f1(str):\n",
    "#    return val(str)\n",
    "#map(f1, trainX['region'])['Mbeya']\n",
    "\n",
    "print(type(val))\n",
    "for ii in range(0, len(val)):\n",
    "    print(val.keys()[ii])\n",
    "    trainX.replace(to_replace = val.keys()[ii], value = ii, inplace = True)\n",
    "    testX.replace(to_replace = val.keys()[ii], value = ii, inplace = True)"
   ]
  },
  {
   "cell_type": "code",
   "execution_count": 15,
   "metadata": {
    "collapsed": true
   },
   "outputs": [],
   "source": [
    "#trainX['region']"
   ]
  },
  {
   "cell_type": "markdown",
   "metadata": {},
   "source": [
    "Регионы заменены на целочисленные индексы. Теперь рассмотрим поле имени основателя:"
   ]
  },
  {
   "cell_type": "code",
   "execution_count": 16,
   "metadata": {},
   "outputs": [
    {
     "data": {
      "text/plain": [
       "Government Of Tanzania    9084\n",
       "Danida                    3114\n",
       "Hesawa                    2202\n",
       "Rwssp                     1374\n",
       "World Bank                1349\n",
       "Kkkt                      1287\n",
       "World Vision              1246\n",
       "Unicef                    1057\n",
       "Tasaf                      877\n",
       "District Council           843\n",
       "Dhv                        829\n",
       "Private Individual         826\n",
       "Dwsp                       811\n",
       "0                          777\n",
       "Norad                      765\n",
       "Germany Republi            610\n",
       "Tcrs                       602\n",
       "Ministry Of Water          590\n",
       "Water                      583\n",
       "Dwe                        484\n",
       "Netherlands                470\n",
       "Hifab                      450\n",
       "Adb                        448\n",
       "Lga                        442\n",
       "Amref                      425\n",
       "Fini Water                 393\n",
       "Oxfam                      359\n",
       "Wateraid                   333\n",
       "Rc Church                  321\n",
       "Isf                        316\n",
       "                          ... \n",
       "Nyabasamba                   1\n",
       "Robert                       1\n",
       "Zao Water Spring             1\n",
       "Kerebuka                     1\n",
       "Qwiqwi                       1\n",
       "Kwiboni                      1\n",
       "Zaben                        1\n",
       "Baric                        1\n",
       "Tarangire Park               1\n",
       "Solar Villa                  1\n",
       "Water Of Water               1\n",
       "Rural Water Supply           1\n",
       "Dwe And Veo                  1\n",
       "Veo                          1\n",
       "Ddp                          1\n",
       "Nyamigogo                    1\n",
       "Mwakipesile                  1\n",
       "Roman Cathoric               1\n",
       "Mukwabi Nyeisa               1\n",
       "Ikela Wa                     1\n",
       "Villager                     1\n",
       "Morrovian                    1\n",
       "Kkkt Usa                     1\n",
       "Tackle                       1\n",
       "Dak                          1\n",
       "Crs                          1\n",
       "Tasafu                       1\n",
       "Mgolole                      1\n",
       "Fico                         1\n",
       "Ba                           1\n",
       "Name: funder, Length: 2877, dtype: int64"
      ]
     },
     "execution_count": 16,
     "metadata": {},
     "output_type": "execute_result"
    }
   ],
   "source": [
    "val = trainX['funder'].value_counts()\n",
    "val1 = testX['funder'].value_counts()\n",
    "val = val.append(val1)\n",
    "val"
   ]
  },
  {
   "cell_type": "markdown",
   "metadata": {},
   "source": [
    "Видим:\n",
    "\n",
    "* крупного застройщика водокачек под названием 0\n",
    "* ещё одного крупного застройщика Private Individual - частный застройщик\n",
    "* большой хвост таблицы из частных водокачек, значит, имена их funder'ов можно попробовать заменить на некого единого обобщенного частного установщика\n",
    "\n",
    "Обе эти особенности могут плохо сказаться на точности предсказания модели. Поэтому заменим установщика 0, Private Individual, а также все установщиков с количеством водокачек меньше 50 на одного обощенного установщика, назовем его Noname."
   ]
  },
  {
   "cell_type": "code",
   "execution_count": 17,
   "metadata": {
    "collapsed": true
   },
   "outputs": [],
   "source": [
    "#print(val['Roman'])\n",
    "for ii in range(0, len(trainX)):\n",
    "    if (pd.isnull(trainX['funder'][ii])):\n",
    "        trainX.at[ii, 'funder'] = \"Noname\"\n",
    "    elif (val[trainX['funder'][ii]].any() < 50):\n",
    "        #print(trainX['funder'][ii])   \n",
    "        #print(val[trainX['funder'][ii]])\n",
    "        trainX.at[ii, 'funder'] = \"Noname\""
   ]
  },
  {
   "cell_type": "code",
   "execution_count": 18,
   "metadata": {
    "collapsed": true
   },
   "outputs": [],
   "source": [
    "for ii in range(0, len(testX)):    \n",
    "    if (pd.isnull(testX['funder'][ii])):\n",
    "        testX.at[ii, 'funder'] = \"Noname\"\n",
    "    else:\n",
    "        #print(trainX['funder'][ii])\n",
    "        if (val[testX['funder'][ii]].any() < 50):\n",
    "            #print(trainX['funder'][ii])   \n",
    "            #print(val[trainX['funder'][ii]])\n",
    "            testX.at[ii, 'funder'] = \"Noname\""
   ]
  },
  {
   "cell_type": "code",
   "execution_count": 19,
   "metadata": {
    "collapsed": true
   },
   "outputs": [],
   "source": [
    "trainX.replace(to_replace = \"0\", value=\"Noname\", inplace = True)\n",
    "trainX.replace(to_replace = \"Private Individual\", value=\"Noname\", inplace = True)\n",
    "trainX['funder'].value_counts()\n",
    "\n",
    "testX.replace(to_replace = \"0\", value=\"Noname\", inplace = True)\n",
    "testX.replace(to_replace = \"Private Individual\", value=\"Noname\", inplace = True)"
   ]
  },
  {
   "cell_type": "markdown",
   "metadata": {},
   "source": [
    "Приведём поле \"основатель\" к целочисленному виду:"
   ]
  },
  {
   "cell_type": "code",
   "execution_count": 20,
   "metadata": {
    "collapsed": true
   },
   "outputs": [],
   "source": [
    "val = trainX['funder'].value_counts()\n",
    "val1 = testX['funder'].value_counts()\n",
    "val = val.append(val1)\n",
    "for ii in range(0, len(val)):\n",
    "    val[ii]=ii\n",
    "\n",
    "for ii in range(0, len(val)):\n",
    "    trainX.replace(to_replace = val.keys()[ii], value = ii, inplace = True)\n",
    "    testX.replace(to_replace = val.keys()[ii], value = ii, inplace = True)\n",
    "#trainX['funder']"
   ]
  },
  {
   "cell_type": "markdown",
   "metadata": {},
   "source": [
    "Проверим на совпадения колонки source и source_type. А ещё присутствует колонка source_class"
   ]
  },
  {
   "cell_type": "code",
   "execution_count": 21,
   "metadata": {},
   "outputs": [
    {
     "name": "stdout",
     "output_type": "stream",
     "text": [
      "совпадение в  62 % случаев\n"
     ]
    }
   ],
   "source": [
    "val1 = trainX['source']\n",
    "val2 = trainX['source_type']\n",
    "count = 0\n",
    "for ii in range(0,len(val1)):\n",
    "    if (val1[ii] == val2[ii]):\n",
    "        count += 1\n",
    "        #print (\"misfit\")\n",
    "print (\"совпадение в \", int(count/len(val1)*100.0), \"% случаев\")\n"
   ]
  },
  {
   "cell_type": "markdown",
   "metadata": {},
   "source": [
    "То же самое относительно payment и payment_type"
   ]
  },
  {
   "cell_type": "code",
   "execution_count": 22,
   "metadata": {},
   "outputs": [
    {
     "name": "stdout",
     "output_type": "stream",
     "text": [
      "совпадение в  58 % случаев\n"
     ]
    }
   ],
   "source": [
    "val1 = trainX['payment']\n",
    "val2 = trainX['payment_type']\n",
    "count = 0\n",
    "for ii in range(0,len(val1)):\n",
    "    if (val1[ii] == val2[ii]):\n",
    "        count += 1\n",
    "        #print (\"misfit\")\n",
    "print (\"совпадение в \", int(count/len(val1)*100.0), \"% случаев\")"
   ]
  },
  {
   "cell_type": "markdown",
   "metadata": {},
   "source": [
    "Обнаружена чрезмерная схожесть значений столбцов. Не будем использовать дублирующиеся столбцы."
   ]
  },
  {
   "cell_type": "markdown",
   "metadata": {},
   "source": [
    "## 6) Определим средний возраст водокачек"
   ]
  },
  {
   "cell_type": "code",
   "execution_count": 23,
   "metadata": {},
   "outputs": [
    {
     "data": {
      "text/plain": [
       "1300.6524747474748"
      ]
     },
     "execution_count": 23,
     "metadata": {},
     "output_type": "execute_result"
    }
   ],
   "source": [
    "trainX['construction_year'].mean()"
   ]
  },
  {
   "cell_type": "markdown",
   "metadata": {},
   "source": [
    "Средний год постройки = 1300 . . . Выглядит подозрительно."
   ]
  },
  {
   "cell_type": "markdown",
   "metadata": {},
   "source": [
    "Подсчитаем процент записей, в которых \"год постройки\" заполнен нулём:"
   ]
  },
  {
   "cell_type": "code",
   "execution_count": 24,
   "metadata": {},
   "outputs": [
    {
     "name": "stdout",
     "output_type": "stream",
     "text": [
      "34 %\n"
     ]
    }
   ],
   "source": [
    "print(int(len(trainX[trainX['construction_year'] == 0])/len(trainX)*100.0), \"%\")"
   ]
  },
  {
   "cell_type": "markdown",
   "metadata": {},
   "source": [
    "Возраст, субъективно, один из ключевых параметров, влияющих на отказ водокачки при прочих фиксированных параметрах. И с этим придётся что-то делать. Во всех строках с нулевым годом постройки заменим нули на срединий год без учета нулевых строк:"
   ]
  },
  {
   "cell_type": "code",
   "execution_count": 25,
   "metadata": {},
   "outputs": [
    {
     "name": "stdout",
     "output_type": "stream",
     "text": [
      "средний возраст водокачек с заполненным полем = 1996.81468559\n",
      "среднйи возраст после заполнения пробелов 1996.81468559\n"
     ]
    }
   ],
   "source": [
    "avg = 0\n",
    "count = 0\n",
    "for ii in range(0, len(trainX)):\n",
    "    if (trainX['construction_year'][ii] != 0):\n",
    "        avg += trainX['construction_year'][ii]\n",
    "        count += 1\n",
    "avg /= count\n",
    "print(\"средний возраст водокачек с заполненным полем =\", avg)\n",
    "trainX['construction_year'].replace(to_replace = 0, value = avg, inplace = True)\n",
    "testX['construction_year'].replace(to_replace = 0, value = avg, inplace = True)\n",
    "print(\"среднйи возраст после заполнения пробелов\", trainX['construction_year'].mean())"
   ]
  },
  {
   "cell_type": "markdown",
   "metadata": {},
   "source": [
    "## 7) Корреляции"
   ]
  },
  {
   "cell_type": "markdown",
   "metadata": {},
   "source": [
    "Построим таблицу взаимных корреляций числовых признаков. \n",
    "\n",
    "Из таблицы видно, например, что признаки region_code и district_code сильно коррелирует, значит, хотя бы один из этих признаков стоит исключить из модели.\n",
    "\n",
    "Мы пробовали строить график взаимных корреляций в виде тепловой карты, но такой график получился малоинформативным."
   ]
  },
  {
   "cell_type": "code",
   "execution_count": 26,
   "metadata": {},
   "outputs": [
    {
     "data": {
      "text/html": [
       "<div>\n",
       "<style scoped>\n",
       "    .dataframe tbody tr th:only-of-type {\n",
       "        vertical-align: middle;\n",
       "    }\n",
       "\n",
       "    .dataframe tbody tr th {\n",
       "        vertical-align: top;\n",
       "    }\n",
       "\n",
       "    .dataframe thead th {\n",
       "        text-align: right;\n",
       "    }\n",
       "</style>\n",
       "<table border=\"1\" class=\"dataframe\">\n",
       "  <thead>\n",
       "    <tr style=\"text-align: right;\">\n",
       "      <th></th>\n",
       "      <th>id</th>\n",
       "      <th>amount_tsh</th>\n",
       "      <th>funder</th>\n",
       "      <th>gps_height</th>\n",
       "      <th>longitude</th>\n",
       "      <th>latitude</th>\n",
       "      <th>num_private</th>\n",
       "      <th>region</th>\n",
       "      <th>region_code</th>\n",
       "      <th>district_code</th>\n",
       "      <th>population</th>\n",
       "      <th>construction_year</th>\n",
       "    </tr>\n",
       "  </thead>\n",
       "  <tbody>\n",
       "    <tr>\n",
       "      <th>id</th>\n",
       "      <td>1.000000</td>\n",
       "      <td>-0.005321</td>\n",
       "      <td>NaN</td>\n",
       "      <td>-0.004692</td>\n",
       "      <td>-0.001348</td>\n",
       "      <td>0.001718</td>\n",
       "      <td>-0.002629</td>\n",
       "      <td>0.003246</td>\n",
       "      <td>-0.003028</td>\n",
       "      <td>-0.003044</td>\n",
       "      <td>-0.002813</td>\n",
       "      <td>-0.003356</td>\n",
       "    </tr>\n",
       "    <tr>\n",
       "      <th>amount_tsh</th>\n",
       "      <td>-0.005321</td>\n",
       "      <td>1.000000</td>\n",
       "      <td>NaN</td>\n",
       "      <td>0.076650</td>\n",
       "      <td>0.022134</td>\n",
       "      <td>-0.052670</td>\n",
       "      <td>0.002944</td>\n",
       "      <td>-0.020419</td>\n",
       "      <td>-0.026813</td>\n",
       "      <td>-0.023599</td>\n",
       "      <td>0.016288</td>\n",
       "      <td>0.006036</td>\n",
       "    </tr>\n",
       "    <tr>\n",
       "      <th>funder</th>\n",
       "      <td>NaN</td>\n",
       "      <td>NaN</td>\n",
       "      <td>NaN</td>\n",
       "      <td>NaN</td>\n",
       "      <td>NaN</td>\n",
       "      <td>NaN</td>\n",
       "      <td>NaN</td>\n",
       "      <td>NaN</td>\n",
       "      <td>NaN</td>\n",
       "      <td>NaN</td>\n",
       "      <td>NaN</td>\n",
       "      <td>NaN</td>\n",
       "    </tr>\n",
       "    <tr>\n",
       "      <th>gps_height</th>\n",
       "      <td>-0.004692</td>\n",
       "      <td>0.076650</td>\n",
       "      <td>NaN</td>\n",
       "      <td>1.000000</td>\n",
       "      <td>0.149155</td>\n",
       "      <td>-0.035751</td>\n",
       "      <td>0.007237</td>\n",
       "      <td>-0.048600</td>\n",
       "      <td>-0.183521</td>\n",
       "      <td>-0.171233</td>\n",
       "      <td>0.135003</td>\n",
       "      <td>-0.004493</td>\n",
       "    </tr>\n",
       "    <tr>\n",
       "      <th>longitude</th>\n",
       "      <td>-0.001348</td>\n",
       "      <td>0.022134</td>\n",
       "      <td>NaN</td>\n",
       "      <td>0.149155</td>\n",
       "      <td>1.000000</td>\n",
       "      <td>-0.425802</td>\n",
       "      <td>0.023873</td>\n",
       "      <td>0.188238</td>\n",
       "      <td>0.034197</td>\n",
       "      <td>0.151398</td>\n",
       "      <td>0.086590</td>\n",
       "      <td>0.008830</td>\n",
       "    </tr>\n",
       "    <tr>\n",
       "      <th>latitude</th>\n",
       "      <td>0.001718</td>\n",
       "      <td>-0.052670</td>\n",
       "      <td>NaN</td>\n",
       "      <td>-0.035751</td>\n",
       "      <td>-0.425802</td>\n",
       "      <td>1.000000</td>\n",
       "      <td>0.006837</td>\n",
       "      <td>-0.061388</td>\n",
       "      <td>-0.221018</td>\n",
       "      <td>-0.201020</td>\n",
       "      <td>-0.022152</td>\n",
       "      <td>0.029159</td>\n",
       "    </tr>\n",
       "    <tr>\n",
       "      <th>num_private</th>\n",
       "      <td>-0.002629</td>\n",
       "      <td>0.002944</td>\n",
       "      <td>NaN</td>\n",
       "      <td>0.007237</td>\n",
       "      <td>0.023873</td>\n",
       "      <td>0.006837</td>\n",
       "      <td>1.000000</td>\n",
       "      <td>0.009891</td>\n",
       "      <td>-0.020377</td>\n",
       "      <td>-0.004478</td>\n",
       "      <td>0.003818</td>\n",
       "      <td>-0.003233</td>\n",
       "    </tr>\n",
       "    <tr>\n",
       "      <th>region</th>\n",
       "      <td>0.003246</td>\n",
       "      <td>-0.020419</td>\n",
       "      <td>NaN</td>\n",
       "      <td>-0.048600</td>\n",
       "      <td>0.188238</td>\n",
       "      <td>-0.061388</td>\n",
       "      <td>0.009891</td>\n",
       "      <td>1.000000</td>\n",
       "      <td>0.392629</td>\n",
       "      <td>0.198037</td>\n",
       "      <td>0.174214</td>\n",
       "      <td>-0.035931</td>\n",
       "    </tr>\n",
       "    <tr>\n",
       "      <th>region_code</th>\n",
       "      <td>-0.003028</td>\n",
       "      <td>-0.026813</td>\n",
       "      <td>NaN</td>\n",
       "      <td>-0.183521</td>\n",
       "      <td>0.034197</td>\n",
       "      <td>-0.221018</td>\n",
       "      <td>-0.020377</td>\n",
       "      <td>0.392629</td>\n",
       "      <td>1.000000</td>\n",
       "      <td>0.678602</td>\n",
       "      <td>0.094088</td>\n",
       "      <td>-0.009402</td>\n",
       "    </tr>\n",
       "    <tr>\n",
       "      <th>district_code</th>\n",
       "      <td>-0.003044</td>\n",
       "      <td>-0.023599</td>\n",
       "      <td>NaN</td>\n",
       "      <td>-0.171233</td>\n",
       "      <td>0.151398</td>\n",
       "      <td>-0.201020</td>\n",
       "      <td>-0.004478</td>\n",
       "      <td>0.198037</td>\n",
       "      <td>0.678602</td>\n",
       "      <td>1.000000</td>\n",
       "      <td>0.061831</td>\n",
       "      <td>0.006739</td>\n",
       "    </tr>\n",
       "    <tr>\n",
       "      <th>population</th>\n",
       "      <td>-0.002813</td>\n",
       "      <td>0.016288</td>\n",
       "      <td>NaN</td>\n",
       "      <td>0.135003</td>\n",
       "      <td>0.086590</td>\n",
       "      <td>-0.022152</td>\n",
       "      <td>0.003818</td>\n",
       "      <td>0.174214</td>\n",
       "      <td>0.094088</td>\n",
       "      <td>0.061831</td>\n",
       "      <td>1.000000</td>\n",
       "      <td>0.030769</td>\n",
       "    </tr>\n",
       "    <tr>\n",
       "      <th>construction_year</th>\n",
       "      <td>-0.003356</td>\n",
       "      <td>0.006036</td>\n",
       "      <td>NaN</td>\n",
       "      <td>-0.004493</td>\n",
       "      <td>0.008830</td>\n",
       "      <td>0.029159</td>\n",
       "      <td>-0.003233</td>\n",
       "      <td>-0.035931</td>\n",
       "      <td>-0.009402</td>\n",
       "      <td>0.006739</td>\n",
       "      <td>0.030769</td>\n",
       "      <td>1.000000</td>\n",
       "    </tr>\n",
       "  </tbody>\n",
       "</table>\n",
       "</div>"
      ],
      "text/plain": [
       "                         id  amount_tsh  funder  gps_height  longitude  \\\n",
       "id                 1.000000   -0.005321     NaN   -0.004692  -0.001348   \n",
       "amount_tsh        -0.005321    1.000000     NaN    0.076650   0.022134   \n",
       "funder                  NaN         NaN     NaN         NaN        NaN   \n",
       "gps_height        -0.004692    0.076650     NaN    1.000000   0.149155   \n",
       "longitude         -0.001348    0.022134     NaN    0.149155   1.000000   \n",
       "latitude           0.001718   -0.052670     NaN   -0.035751  -0.425802   \n",
       "num_private       -0.002629    0.002944     NaN    0.007237   0.023873   \n",
       "region             0.003246   -0.020419     NaN   -0.048600   0.188238   \n",
       "region_code       -0.003028   -0.026813     NaN   -0.183521   0.034197   \n",
       "district_code     -0.003044   -0.023599     NaN   -0.171233   0.151398   \n",
       "population        -0.002813    0.016288     NaN    0.135003   0.086590   \n",
       "construction_year -0.003356    0.006036     NaN   -0.004493   0.008830   \n",
       "\n",
       "                   latitude  num_private    region  region_code  \\\n",
       "id                 0.001718    -0.002629  0.003246    -0.003028   \n",
       "amount_tsh        -0.052670     0.002944 -0.020419    -0.026813   \n",
       "funder                  NaN          NaN       NaN          NaN   \n",
       "gps_height        -0.035751     0.007237 -0.048600    -0.183521   \n",
       "longitude         -0.425802     0.023873  0.188238     0.034197   \n",
       "latitude           1.000000     0.006837 -0.061388    -0.221018   \n",
       "num_private        0.006837     1.000000  0.009891    -0.020377   \n",
       "region            -0.061388     0.009891  1.000000     0.392629   \n",
       "region_code       -0.221018    -0.020377  0.392629     1.000000   \n",
       "district_code     -0.201020    -0.004478  0.198037     0.678602   \n",
       "population        -0.022152     0.003818  0.174214     0.094088   \n",
       "construction_year  0.029159    -0.003233 -0.035931    -0.009402   \n",
       "\n",
       "                   district_code  population  construction_year  \n",
       "id                     -0.003044   -0.002813          -0.003356  \n",
       "amount_tsh             -0.023599    0.016288           0.006036  \n",
       "funder                       NaN         NaN                NaN  \n",
       "gps_height             -0.171233    0.135003          -0.004493  \n",
       "longitude               0.151398    0.086590           0.008830  \n",
       "latitude               -0.201020   -0.022152           0.029159  \n",
       "num_private            -0.004478    0.003818          -0.003233  \n",
       "region                  0.198037    0.174214          -0.035931  \n",
       "region_code             0.678602    0.094088          -0.009402  \n",
       "district_code           1.000000    0.061831           0.006739  \n",
       "population              0.061831    1.000000           0.030769  \n",
       "construction_year       0.006739    0.030769           1.000000  "
      ]
     },
     "execution_count": 26,
     "metadata": {},
     "output_type": "execute_result"
    }
   ],
   "source": [
    "trainX.corr()"
   ]
  },
  {
   "cell_type": "markdown",
   "metadata": {},
   "source": [
    "# Строим модель"
   ]
  },
  {
   "cell_type": "markdown",
   "metadata": {},
   "source": [
    "Создаём объект модели:"
   ]
  },
  {
   "cell_type": "code",
   "execution_count": 28,
   "metadata": {
    "collapsed": true
   },
   "outputs": [],
   "source": [
    "model = GradientBoostingClassifier(\n",
    "        n_estimators=500,\n",
    "        max_depth=5,\n",
    "        #subsample=0.5,\n",
    "        max_features=\"auto\"\n",
    "        # random_state=seed\n",
    "    )"
   ]
  },
  {
   "cell_type": "markdown",
   "metadata": {},
   "source": [
    "Делаем предвыборку нужных столбцов и приводим типы данных"
   ]
  },
  {
   "cell_type": "code",
   "execution_count": 29,
   "metadata": {},
   "outputs": [
    {
     "name": "stdout",
     "output_type": "stream",
     "text": [
      "0 0 0\n",
      "59400 59400\n",
      "[[ 2012.   321.  1996.     0.    18.]\n",
      " [ 2000.   300.  1569.     0.     5.]\n",
      " [ 2010.   500.  1567.     0.    13.]\n",
      " ..., \n",
      " [ 2010.   200.  1476.     0.    13.]\n",
      " [ 2009.   150.   998.     0.     9.]\n",
      " [ 2008.    40.   481.     0.     9.]]\n"
     ]
    }
   ],
   "source": [
    "ctrainX = trainX[[\"construction_year\", \"population\", \"gps_height\", \"funder\", \"region\"]] #, \"payment\", \"source\"]]\n",
    "ctrainX = ctrainX.as_matrix()\n",
    "ctrainX = ctrainX.astype(float)\n",
    "\n",
    "trainY.replace(to_replace=\"functional\", value=0, inplace=True)\n",
    "trainY.replace(to_replace=\"non functional\", value=1, inplace=True)\n",
    "trainY.replace(to_replace=\"functional needs repair\", value=2, inplace=True)\n",
    "ctrainY = trainY.as_matrix()\n",
    "ctrainY = ctrainY[:, 1]\n",
    "ctrainY = ctrainY.astype(float)\n",
    "\n",
    "a=0\n",
    "b=0\n",
    "c=0\n",
    "#for ii in range(0, len(trainY)):\n",
    "#    if (trainY[ii] == 1):\n",
    "#        a += 1\n",
    "#    if (trainY[ii] == 2):\n",
    "#        b += 1\n",
    "#    if (trainY[ii] == 3):\n",
    "#        c += 1\n",
    "        \n",
    "print(a,b,c)    \n",
    "\n",
    "print(len(ctrainX), len(ctrainY))\n",
    "\n",
    "ctestX = testX[[\"construction_year\", \"population\", \"gps_height\", \"funder\", \"region\"]]\n",
    "ctestX = ctestX.as_matrix()\n",
    "print(ctestX)\n",
    "ctestX = ctestX.astype(float)"
   ]
  },
  {
   "cell_type": "markdown",
   "metadata": {},
   "source": [
    "Обучаем модель и делаем предсказание"
   ]
  },
  {
   "cell_type": "code",
   "execution_count": 30,
   "metadata": {
    "collapsed": true
   },
   "outputs": [],
   "source": [
    "model.fit(ctrainX, ctrainY)\n",
    "\n",
    "#predictions = model.predict_proba(testX)[:,1]\n",
    "predictions = model.predict_proba(ctestX)"
   ]
  },
  {
   "cell_type": "markdown",
   "metadata": {},
   "source": [
    "В качетсве результата получаем таблицу вероятностей каждого из трёх состояний:"
   ]
  },
  {
   "cell_type": "code",
   "execution_count": 31,
   "metadata": {},
   "outputs": [
    {
     "data": {
      "text/plain": [
       "array([[ 0.80687034,  0.17869014,  0.01443952],\n",
       "       [ 0.78140004,  0.16928775,  0.0493122 ],\n",
       "       [ 0.79554413,  0.16082399,  0.04363189],\n",
       "       ..., \n",
       "       [ 0.84689904,  0.12725302,  0.02584793],\n",
       "       [ 0.72326273,  0.24022143,  0.03651584],\n",
       "       [ 0.69222586,  0.289074  ,  0.01870014]])"
      ]
     },
     "execution_count": 31,
     "metadata": {},
     "output_type": "execute_result"
    }
   ],
   "source": [
    "predictions"
   ]
  },
  {
   "cell_type": "code",
   "execution_count": 32,
   "metadata": {},
   "outputs": [
    {
     "data": {
      "text/plain": [
       "14850"
      ]
     },
     "execution_count": 32,
     "metadata": {},
     "output_type": "execute_result"
    }
   ],
   "source": [
    "len(predictions)"
   ]
  },
  {
   "cell_type": "code",
   "execution_count": 33,
   "metadata": {
    "collapsed": true
   },
   "outputs": [],
   "source": [
    "answ = predictions[:, 0].astype(int)\n",
    "for ii in range (0, len(predictions)):\n",
    "    answ[ii] = predictions[ii].argmax();\n",
    "\n",
    "#answdf = pd.DataFrame(data=answ)\n",
    "#answdf.to_csv('./dataT/test_labels.csv', sep=',')\n",
    "\n",
    "#pred = [list(x) for x in predictions]\n",
    "#[my_predict.index(max(my_predict)) + 1 for my_predict in pred]"
   ]
  },
  {
   "cell_type": "markdown",
   "metadata": {},
   "source": [
    "Выбрали максимально вероятное состояние, конвертируем в выходной формат и записываем в файл:"
   ]
  },
  {
   "cell_type": "code",
   "execution_count": 34,
   "metadata": {
    "collapsed": true
   },
   "outputs": [],
   "source": [
    "new_data = testX[['id']].copy()"
   ]
  },
  {
   "cell_type": "code",
   "execution_count": 35,
   "metadata": {
    "collapsed": true
   },
   "outputs": [],
   "source": [
    "testY = pd.read_csv('./dataT/SubmissionFormat.csv', sep=',')\n",
    "for ii in range(0, len(testY)):\n",
    "    testY.at[ii, 'status_group'] = answ[ii]\n",
    "    \n",
    "answdf = pd.DataFrame(data=testY)\n",
    "answdf.to_csv('./dataT/output.csv', sep=',')"
   ]
  },
  {
   "cell_type": "markdown",
   "metadata": {},
   "source": [
    "Посмотрим на количество разных предсказаний:"
   ]
  },
  {
   "cell_type": "code",
   "execution_count": 36,
   "metadata": {},
   "outputs": [
    {
     "name": "stdout",
     "output_type": "stream",
     "text": [
      "11153 3501 196\n"
     ]
    }
   ],
   "source": [
    "answ = predictions[:, 0].astype(int)\n",
    "\n",
    "a = 0\n",
    "b = 0\n",
    "c = 0\n",
    "for ii in range (0, len(predictions)):\n",
    "    answ[ii] = predictions[ii].argmax() + 1;\n",
    "    if (answ[ii] == 1):\n",
    "        a += 1\n",
    "    if (answ[ii] == 2):\n",
    "        b += 1\n",
    "    if (answ[ii] == 3):\n",
    "        c += 1\n",
    "\n",
    "print(a,b,c)"
   ]
  },
  {
   "cell_type": "markdown",
   "metadata": {},
   "source": [
    "Получается, в прогнозе больше всего (11 153) работающих водокачек, 3501 неработающих и 196 требуют ремонта."
   ]
  },
  {
   "cell_type": "markdown",
   "metadata": {},
   "source": [
    "## Результаты"
   ]
  },
  {
   "cell_type": "markdown",
   "metadata": {},
   "source": [
    "Итак, мы проанализировали данные, провели обработку данных с целью оптимизации качества и скорости построения модели, построили модель классификатора с помощью пакета sklearn и сделали предсказание с помощью построенной модели.\n",
    "\n",
    "Система оценивает участников по отправляемым ими предсказания для тестовой выборки, правильные ответы для которой доступны только организаторам. Предсказание, сделанное данным алгоритмом, содержит 64% правильных предсказаний, что лучше чем у 75% участников. Всего в соревновании участвуют около 4000 человек.\n"
   ]
  },
  {
   "cell_type": "markdown",
   "metadata": {},
   "source": [
    "Возможные направление развития:\n",
    "* проверить, действительно ли убранные столбцы негативно влияют на точность предсказаний\n",
    "* попробовать принципиально другие модели\n",
    "\n",
    "Данный проект был успешно защищен в рамках итогового проекта курса \"Введение в машнинное обучение\" Техносферы."
   ]
  }
 ],
 "metadata": {
  "kernelspec": {
   "display_name": "Python 3 (ipykernel)",
   "language": "python",
   "name": "python3"
  },
  "language_info": {
   "codemirror_mode": {
    "name": "ipython",
    "version": 3
   },
   "file_extension": ".py",
   "mimetype": "text/x-python",
   "name": "python",
   "nbconvert_exporter": "python",
   "pygments_lexer": "ipython3",
   "version": "3.7.1"
  }
 },
 "nbformat": 4,
 "nbformat_minor": 2
}
